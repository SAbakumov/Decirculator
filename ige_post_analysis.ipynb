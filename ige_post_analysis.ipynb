{
 "cells": [
  {
   "cell_type": "markdown",
   "metadata": {},
   "source": [
    "This interactive notebook will guide you through IgE analysis step by step and will reproduce graphs d and e in Fig. 4. Let us import all the necessary. "
   ]
  },
  {
   "cell_type": "code",
   "execution_count": null,
   "metadata": {},
   "outputs": [],
   "source": [
    "from google.colab import drive\r\n",
    "drive.mount('/content/drive')\r\n",
    "\r\n",
    "!git clone https://github.com/SAbakumov/Decirculator.git"
   ]
  },
  {
   "cell_type": "code",
   "execution_count": 3,
   "metadata": {},
   "outputs": [],
   "source": [
    "import numpy as np \r\n",
    "import pandas as pd \r\n",
    "import os \r\n",
    "\r\n",
    "try:\r\n",
    "    data_folder = 'Decirculator/spt/data_spt/POST'\r\n",
    "    from Decirculator.spt.tracking_utils import track_particles, find_multilobes, get_deltas_list\r\n",
    "except:\r\n",
    "    from spt.tracking_utils import track_particles, find_multilobes, get_deltas_list\r\n",
    "    data_folder = 'spt/data_spt/POST'\r\n",
    "\r\n"
   ]
  },
  {
   "cell_type": "markdown",
   "metadata": {},
   "source": [
    "First, let us load all the data. The raw locations data for POST DNP-BSA addition is located in data_spt/POST. In total, 6 movies were processed. We load the data and append the color of each particle into the last column"
   ]
  },
  {
   "cell_type": "code",
   "execution_count": 2,
   "metadata": {},
   "outputs": [],
   "source": [
    "data_folder = 'Decirculator/spt/data_spt/POST'\r\n",
    "\r\n",
    "\r\n",
    "raw_locations = {}\r\n",
    "for processed_movie in os.listdir(data_folder):\r\n",
    "    raw_locations[processed_movie] = []\r\n",
    "\r\n",
    "    for color_enum, color in enumerate(['green','red','blue']):\r\n",
    "        xy_locs = pd.read_csv(os.path.join(data_folder,processed_movie ,str(color)+'_predicted.csv')).to_numpy()\r\n",
    "        xy_locs = np.hstack([xy_locs, color_enum*np.ones([xy_locs.shape[0],1])])\r\n",
    "        raw_locations[processed_movie].append(xy_locs)\r\n",
    "\r\n"
   ]
  },
  {
   "cell_type": "markdown",
   "metadata": {},
   "source": [
    "Now, let's track each of the datasets, so that we can produce tracks for each of the individual colors in each of the movies. The tracking requires a few parameters:\r\n",
    "- Number of dark frames (mem_frame). -> This is the number of frames that a particle can 'disappear' within the track\r\n",
    "- Conjugation radius (radius). -> This is the maximal distance that a particle can travel in between two localizations, even if there are dark frames inbetween.\r\n",
    "\r\n",
    "The tracking is performed by global optimization of the total sum of distances between the candidate positions and previous tracks, which is calculated using a bipartite graph matching algorithm. The distance matrix and assignment takes into account the maximal possible travel distance."
   ]
  },
  {
   "cell_type": "code",
   "execution_count": 3,
   "metadata": {},
   "outputs": [],
   "source": [
    "max_distance = 4\r\n",
    "mem_frame = 5"
   ]
  },
  {
   "cell_type": "code",
   "execution_count": 4,
   "metadata": {},
   "outputs": [
    {
     "name": "stderr",
     "output_type": "stream",
     "text": [
      "100%|██████████| 1036/1036 [00:01<00:00, 765.27it/s]\n",
      "100%|██████████| 1036/1036 [00:01<00:00, 976.96it/s]\n",
      "100%|██████████| 1036/1036 [00:01<00:00, 806.29it/s]\n",
      "100%|██████████| 1100/1100 [00:03<00:00, 287.75it/s]\n",
      "100%|██████████| 1104/1104 [00:02<00:00, 403.40it/s]\n",
      "100%|██████████| 1104/1104 [00:03<00:00, 345.53it/s]\n",
      "100%|██████████| 396/396 [00:00<00:00, 930.74it/s]\n",
      "100%|██████████| 399/399 [00:00<00:00, 872.02it/s]\n",
      "100%|██████████| 399/399 [00:00<00:00, 706.50it/s]\n",
      "100%|██████████| 1223/1223 [00:02<00:00, 452.66it/s]\n",
      "100%|██████████| 1232/1232 [00:02<00:00, 544.04it/s]\n",
      "100%|██████████| 1232/1232 [00:02<00:00, 414.97it/s]\n",
      "100%|██████████| 1226/1226 [00:03<00:00, 407.97it/s]\n",
      "100%|██████████| 1226/1226 [00:03<00:00, 407.86it/s]\n",
      "100%|██████████| 1226/1226 [00:03<00:00, 336.52it/s]\n",
      "100%|██████████| 995/995 [00:01<00:00, 897.10it/s]\n",
      "100%|██████████| 995/995 [00:01<00:00, 854.63it/s]\n",
      "100%|██████████| 995/995 [00:01<00:00, 672.33it/s]\n"
     ]
    }
   ],
   "source": [
    "tracked_particles = {}\r\n",
    "for processed_movie in os.listdir(data_folder):\r\n",
    "    tracked_particles[processed_movie] = []\r\n",
    "    for color_enum, color in enumerate(['green','red','blue']):\r\n",
    "        tracked_particles[processed_movie]+=track_particles(raw_locations[processed_movie][color_enum],1, np.int64(np.max(raw_locations[processed_movie][color_enum][:,0])),mem_frame,max_distance)\r\n"
   ]
  },
  {
   "cell_type": "markdown",
   "metadata": {},
   "source": [
    "Now that we have the tracks, we can see which particles are associated. To do so, we first need to filter out the non-sensical tracks. These are the tracks that contain <=2 total points. "
   ]
  },
  {
   "cell_type": "code",
   "execution_count": 5,
   "metadata": {},
   "outputs": [],
   "source": [
    "track_length = 2\r\n",
    "\r\n",
    "for processed_movie in os.listdir(data_folder):\r\n",
    "    tracked_particles[processed_movie] = [np.array(p) for p in tracked_particles[processed_movie] if len(p)>track_length]\r\n"
   ]
  },
  {
   "cell_type": "markdown",
   "metadata": {},
   "source": [
    "It is time to find associated particles. Associated particles are defined as tracks that pass the colocalization criterium for >= 4 frames ( not subsequent frames). The co-localized time points are the ones that have <=1 px distance between them, and are both present in the frame."
   ]
  },
  {
   "cell_type": "code",
   "execution_count": 6,
   "metadata": {},
   "outputs": [
    {
     "name": "stderr",
     "output_type": "stream",
     "text": [
      "C:\\Users\\Boris\\AppData\\Local\\Programs\\Python\\Python39\\lib\\site-packages\\numba\\core\\ir_utils.py:2139: NumbaPendingDeprecationWarning: \u001b[1m\n",
      "Encountered the use of a type that is scheduled for deprecation: type 'reflected list' found for argument 'particles' of function 'disambiguate_couples'.\n",
      "\n",
      "For more information visit https://numba.pydata.org/numba-doc/latest/reference/deprecation.html#deprecation-of-reflection-for-list-and-set-types\n",
      "\u001b[1m\n",
      "File \"spt\\tracking_utils.py\", line 73:\u001b[0m\n",
      "\u001b[1m@njit\n",
      "\u001b[1mdef disambiguate_couples(particles):\n",
      "\u001b[0m\u001b[1m^\u001b[0m\u001b[0m\n",
      "\u001b[0m\n",
      "  warnings.warn(NumbaPendingDeprecationWarning(msg, loc=loc))\n"
     ]
    }
   ],
   "source": [
    "\r\n",
    "double_lobes = {}\r\n",
    "multilobes = {}\r\n",
    "\r\n",
    "for processed_movie in os.listdir(data_folder):\r\n",
    "    double_lobes[processed_movie], multilobes[processed_movie] = find_multilobes(tracked_particles[processed_movie])"
   ]
  },
  {
   "cell_type": "markdown",
   "metadata": {},
   "source": [
    "Now that we have separated multi-lobed particles from single-lobed particles, we can proceed and calculate all the statistics. We first should start by calculating the displacement list. These are all displacements with a certain delta t along each of the particles. This takes some time..."
   ]
  },
  {
   "cell_type": "code",
   "execution_count": 13,
   "metadata": {},
   "outputs": [],
   "source": [
    "multilobed_particles = []\r\n",
    "for key in multilobes.keys():\r\n",
    "    multilobed_particles+=multilobes[key]\r\n",
    "\r\n",
    "deltas_list_multilobes = get_deltas_list(multilobed_particles)\r\n",
    "\r\n",
    "\r\n",
    "double_lobes_particles = []\r\n",
    "for key in double_lobes.keys():\r\n",
    "    double_lobes_particles+=double_lobes[key]\r\n",
    "\r\n",
    "deltas_list_double_lobes = get_deltas_list(double_lobes_particles)\r\n"
   ]
  },
  {
   "cell_type": "code",
   "execution_count": null,
   "metadata": {},
   "outputs": [],
   "source": []
  }
 ],
 "metadata": {
  "kernelspec": {
   "display_name": "Python 3.9.9 64-bit",
   "metadata": {
    "interpreter": {
     "hash": "8891487c894b874e57ee05fe049ec7a388b6131217606824f7f0c26bcaf0d680"
    }
   },
   "name": "python3"
  },
  "language_info": {
   "codemirror_mode": {
    "name": "ipython",
    "version": 3
   },
   "file_extension": ".py",
   "mimetype": "text/x-python",
   "name": "python",
   "nbconvert_exporter": "python",
   "pygments_lexer": "ipython3",
   "version": "3.9.9"
  },
  "orig_nbformat": 2
 },
 "nbformat": 4,
 "nbformat_minor": 2
}