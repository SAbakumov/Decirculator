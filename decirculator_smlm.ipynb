{
 "cells": [
  {
   "cell_type": "markdown",
   "metadata": {},
   "source": [
    "# Hello!\n",
    "\n",
    "This is an interactive  environment for playing with the decirculator. Here we show the capabilities of what our simple network can achieve when reconstructing complex PSF duplicated image data. The easiest way to run this is on Google Colab, however, this same notebook can also be run locally. First, let's clone the repository. Don't do this if you are running it on your local machine as it is not necessary."
   ]
  },
  {
   "cell_type": "markdown",
   "metadata": {},
   "source": [
    "Important! Before running anything, change the runtime to TPU:\n",
    "\n",
    "- Navigate to Edit→Notebook Settings\n",
    "- select TPU from the Hardware Accelerator drop-down"
   ]
  },
  {
   "cell_type": "code",
   "execution_count": null,
   "metadata": {},
   "outputs": [],
   "source": [
    "!rm -rf Decirculator\n",
    "\n",
    "!git clone https://github.com/SAbakumov/Decirculator.git\n"
   ]
  },
  {
   "cell_type": "markdown",
   "metadata": {},
   "source": [
    "We should also download the weights of the network. You can do so, by going ctlr+clicking the following link and downloading the model_final_weights.h5 to your local PC"
   ]
  },
  {
   "cell_type": "code",
   "execution_count": null,
   "metadata": {},
   "outputs": [],
   "source": [
    "https://kuleuven-my.sharepoint.com/:f:/g/personal/sergey_abakumov_kuleuven_be/Ekwyl1h7v8hMgk8vjvN1qxUB-5JrfU2N2uE2BasrsM4ArQ?e=wdgPYK"
   ]
  },
  {
   "cell_type": "markdown",
   "metadata": {},
   "source": [
    "Once you have downloaded the model_final_weights.h5, you can proceed to upload the file into this jupyter notebook. To do so, follow the simple instructions:\n",
    " \n",
    "- On your left, go to the Files icon (a folder icon on your sidebar). This will open the Files tab. \n",
    "- In the Files tab, select the first icon \"Upload to session storage\".\n",
    "- Go to where you've downloaded the model_final_weights.h5 and select the file for upload. \n",
    "- Wait untill the file is uploaded before proceeding further. You can check the status wheel below on the left in the files tab. \n",
    "\n",
    "If you are feeling lost, and can't find the tabs, just go to Part 5 of https://www.webagesolutions.com/blog/learning-the-colab-jupyter-notebook-environment.\n",
    "\n",
    "\n",
    "If you are not running in Colab, just drag and drop the model_final_weights.h5 into the Decirculator repository"
   ]
  },
  {
   "cell_type": "markdown",
   "metadata": {},
   "source": [
    "Once the weights are downloaded, let's import everything we need:"
   ]
  },
  {
   "cell_type": "code",
   "execution_count": 22,
   "metadata": {},
   "outputs": [],
   "source": [
    "import plotly.express as px\n",
    "from plotly.offline import init_notebook_mode, iplot\n",
    "import numpy as np \n",
    "try: #This is purely a Colab thing\n",
    "    file_path_origami = 'Decirculator/spt/data_spt/Origami/18.tif'\n",
    "    path_weights = 'model_final_weights.h5'\n",
    "    from Decirculator.models.unet import *\n",
    "    from Decirculator.training.trainer import * \n",
    "    from Decirculator.data.loader import *  \n",
    "except:\n",
    "    file_path_origami = 'spt/data_spt/Origami/18.tif'\n",
    "    path_weights = 'model_final_weights.h5'\n",
    "    from models.unet import *\n",
    "    from training.trainer import * \n",
    "    from data.loader import *  \n",
    "\n",
    "\n"
   ]
  },
  {
   "cell_type": "markdown",
   "metadata": {},
   "source": [
    "To make use of interactive capabilities of plotly in Colab, we need to run this code snippet"
   ]
  },
  {
   "cell_type": "code",
   "execution_count": null,
   "metadata": {},
   "outputs": [],
   "source": [
    "def configure_plotly_browser_state():\n",
    "    import IPython\n",
    "    display(IPython.core.display.HTML('''\n",
    "        <script src=\"/static/components/requirejs/require.js\"></script>\n",
    "        <script>\n",
    "          requirejs.config({\n",
    "            paths: {\n",
    "              base: '/static/base',\n",
    "              plotly: 'https://cdn.plot.ly/plotly-1.5.1.min.js?noext',\n",
    "            },\n",
    "          });\n",
    "        </script>\n",
    "        '''))\n",
    "configure_plotly_browser_state()"
   ]
  },
  {
   "cell_type": "markdown",
   "metadata": {},
   "source": [
    "Now, let us load the data: in this repository, we have 2 datasets to play with\n",
    "\n",
    "- An small portion of SMLM data from our reconstructed image.\n",
    "- The small portion of data that was used for Origami tracking. \n",
    "\n",
    "We  will load the origami data here, since the results are 'more visual' than in case of SMLM. If you are running this on colab, the plot will be interactive, however, offline it will use the matplotlib library and display the first image"
   ]
  },
  {
   "cell_type": "code",
   "execution_count": null,
   "metadata": {},
   "outputs": [],
   "source": [
    "test_data_origami = Loader(file_path_origami, '')\n",
    "test_data_origami.load_test_data(file_path_origami,background_subtraction='mean' )\n",
    "try:\n",
    "    fig = px.imshow(np.squeeze(test_data_origami.test_data), animation_frame=0, binary_string=True, labels=dict(animation_frame=\"Slice\"))\n",
    "    fig.show()\n",
    "except:\n",
    "    import matplotlib.pyplot as plt \n",
    "    plt.figure(figsize=(6,6))\n",
    "    plt.imshow(test_data_origami.test_data[60,:,:])\n",
    "\n",
    "    "
   ]
  },
  {
   "cell_type": "markdown",
   "metadata": {},
   "source": [
    "Now, let'us run the decirculator pipeline on this image. The decirculator is trained on SMLM data with a slightly different contrast, therefore, to apply it to our origami data, the contrast needs to be slightly adjusted by multiplying the image array with a fixed number (3.5 gave the best results)"
   ]
  },
  {
   "cell_type": "code",
   "execution_count": null,
   "metadata": {},
   "outputs": [],
   "source": [
    "contrast = 3.5\n",
    "model = GetFullModel((None, None, 1),(None, None, 3))\n",
    "trainer = TrainModel(model)\n",
    "y_data = trainer.predict_transposed(contrast*test_data_origami.test_data, path_weights)\n"
   ]
  },
  {
   "cell_type": "markdown",
   "metadata": {},
   "source": [
    "Let us plot what we got"
   ]
  },
  {
   "cell_type": "code",
   "execution_count": null,
   "metadata": {},
   "outputs": [],
   "source": [
    "fig = px.imshow(np.squeeze(y_data[:,:,:,:]), animation_frame=0, binary_string=True, labels=dict(animation_frame=\"Slice\"),zmin=0, zmax=70)\n",
    "fig.update_layout(autosize=False,width=800,height=800)\n",
    "fig.show()\n",
    "\n",
    "fig = px.imshow(np.squeeze(test_data_origami.test_data), animation_frame=0, binary_string=True, labels=dict(animation_frame=\"Slice\"),zmin=0, zmax=70)\n",
    "fig.update_layout(autosize=False,width=800,height=800)\n",
    "fig.show()"
   ]
  },
  {
   "cell_type": "markdown",
   "metadata": {},
   "source": [
    "You can also download the files for further use. The files are stored in your files tab in colab under 'Reconstructed.tif'. You can run the following command to obtain the .tif output in your files tab.\n",
    "\n",
    "You can then download the file afterwards and view it locally. "
   ]
  },
  {
   "cell_type": "code",
   "execution_count": null,
   "metadata": {},
   "outputs": [],
   "source": [
    "import tifffile \n",
    "\n",
    "tifffile.imwrite('Reconstructed.tif', np.squeeze(y_data[:,:,:,:]))"
   ]
  }
 ],
 "metadata": {
  "kernelspec": {
   "display_name": "Python 3.9.9 64-bit",
   "metadata": {
    "interpreter": {
     "hash": "8891487c894b874e57ee05fe049ec7a388b6131217606824f7f0c26bcaf0d680"
    }
   },
   "name": "python3"
  },
  "language_info": {
   "codemirror_mode": {
    "name": "ipython",
    "version": 3
   },
   "file_extension": ".py",
   "mimetype": "text/x-python",
   "name": "python",
   "nbconvert_exporter": "python",
   "pygments_lexer": "ipython3",
   "version": "3.9.9"
  },
  "orig_nbformat": 2
 },
 "nbformat": 4,
 "nbformat_minor": 2
}
