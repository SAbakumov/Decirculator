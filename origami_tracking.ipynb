{
 "cells": [
  {
   "cell_type": "markdown",
   "metadata": {},
   "source": [
    "Let's track the origami data. First, let's import everything that is needed"
   ]
  },
  {
   "cell_type": "code",
   "execution_count": 3,
   "metadata": {},
   "outputs": [],
   "source": [
    "import numpy as np \r\n",
    "import pandas as pd \r\n",
    "import os \r\n",
    "\r\n",
    "try:\r\n",
    "    data_folder = r'Decirculator/spt/data_spt/Origami/xy_locs'\r\n",
    "    from Decirculator.spt.tracking_utils import track_particles, get_deltas_list_origami\r\n",
    "except:\r\n",
    "    data_folder = r'spt\\data_spt\\Origami\\xy_locs'\r\n",
    "    from spt.tracking_utils import track_particles, get_deltas_list_origami\r\n"
   ]
  },
  {
   "cell_type": "markdown",
   "metadata": {},
   "source": [
    "Let's load all the locations from the movie folders\r\n"
   ]
  },
  {
   "cell_type": "code",
   "execution_count": 4,
   "metadata": {},
   "outputs": [],
   "source": [
    "raw_locations = {}\r\n",
    "for processed_movie in os.listdir(data_folder):\r\n",
    "    raw_locations[processed_movie] = []\r\n",
    "\r\n",
    "    for color_enum, color in enumerate(['green','red','blue']):\r\n",
    "        xy_locs = pd.read_csv(os.path.join(data_folder,processed_movie ,str(color)+'_predicted.csv')).to_numpy()\r\n",
    "        xy_locs = np.hstack([xy_locs, color_enum*np.ones([xy_locs.shape[0],1])])\r\n",
    "        raw_locations[processed_movie].append(xy_locs)"
   ]
  },
  {
   "cell_type": "markdown",
   "metadata": {},
   "source": [
    "Now, let's track each of the datasets, so that we can produce tracks for each of the individual colors in each of the movies. The tracking requires a few parameters:\r\n",
    "- Number of dark frames (mem_frame). -> This is the number of frames that a particle can 'disappear' within the track\r\n",
    "- Conjugation radius (radius). -> This is the maximal distance that a particle can travel in between two localizations, even if there are dark frames inbetween.\r\n",
    "\r\n",
    "The tracking is performed by global optimization of the total sum of distances between the candidate positions and previous tracks, which is calculated using a bipartite graph matching algorithm. The distance matrix and assignment takes into account the maximal possible travel distance."
   ]
  },
  {
   "cell_type": "code",
   "execution_count": 5,
   "metadata": {},
   "outputs": [],
   "source": [
    "max_distance = 6\r\n",
    "mem_frame = 3\r\n",
    "start_frame = 60\r\n",
    "end_frame   = 300"
   ]
  },
  {
   "cell_type": "code",
   "execution_count": 8,
   "metadata": {},
   "outputs": [
    {
     "name": "stderr",
     "output_type": "stream",
     "text": [
      "100%|██████████| 239/239 [00:00<00:00, 388.79it/s]\n",
      "100%|██████████| 239/239 [00:01<00:00, 155.04it/s]\n",
      "100%|██████████| 239/239 [00:00<00:00, 429.64it/s]\n",
      "100%|██████████| 239/239 [00:00<00:00, 417.46it/s]\n",
      "100%|██████████| 239/239 [00:01<00:00, 158.54it/s]\n",
      "100%|██████████| 239/239 [00:00<00:00, 514.77it/s]\n",
      "100%|██████████| 239/239 [00:01<00:00, 126.41it/s]\n",
      "100%|██████████| 239/239 [00:02<00:00, 82.59it/s]\n",
      "100%|██████████| 239/239 [00:01<00:00, 125.28it/s]\n",
      "100%|██████████| 239/239 [00:01<00:00, 149.94it/s]\n",
      "100%|██████████| 239/239 [00:02<00:00, 99.88it/s]\n",
      "100%|██████████| 239/239 [00:01<00:00, 142.74it/s]\n",
      "100%|██████████| 239/239 [00:01<00:00, 148.77it/s]\n",
      "100%|██████████| 239/239 [00:02<00:00, 112.86it/s]\n",
      "100%|██████████| 239/239 [00:01<00:00, 161.74it/s]\n"
     ]
    }
   ],
   "source": [
    "tracked_particles = {}\r\n",
    "for processed_movie in os.listdir(data_folder):\r\n",
    "    tracked_particles[processed_movie] = []\r\n",
    "    for color_enum, color in enumerate(['green','red','blue']):\r\n",
    "        tracked_particles[processed_movie].append(track_particles(raw_locations[processed_movie][color_enum],start_frame, end_frame,mem_frame,max_distance))"
   ]
  },
  {
   "cell_type": "markdown",
   "metadata": {},
   "source": [
    "Now that we have the tracks, we first need to filter out the non-sensical tracks. These are the tracks that contain <=15 total points. "
   ]
  },
  {
   "cell_type": "code",
   "execution_count": 9,
   "metadata": {},
   "outputs": [],
   "source": [
    "track_length = 15\r\n",
    "\r\n",
    "for processed_movie in os.listdir(data_folder):\r\n",
    "    for color,_ in enumerate(tracked_particles[processed_movie]):\r\n",
    "        tracked_particles[processed_movie][color] = [np.array(p) for p in tracked_particles[processed_movie][color] if len(p)>track_length]"
   ]
  },
  {
   "cell_type": "markdown",
   "metadata": {},
   "source": [
    "We can proceed and calculate all the statistics. We first should start by calculating the displacement list. These are all displacements with a certain delta t along each of the particles. This takes some time...\r\n",
    "\r\n",
    "During this calculation, we also remove all the particles that don't reach a displacement of 1 micron along their track."
   ]
  },
  {
   "cell_type": "code",
   "execution_count": 10,
   "metadata": {},
   "outputs": [],
   "source": [
    "\r\n",
    "deltas_list_all_colors = []\r\n",
    "pixel_size = 0.108 #micron\r\n",
    "max_radius = 1 #micron\r\n",
    "\r\n",
    "\r\n",
    "for color_enum, color in enumerate(['green','red','blue']):\r\n",
    "    particles = []\r\n",
    "    for key in tracked_particles.keys():\r\n",
    "        particles+=tracked_particles[key][color_enum]\r\n",
    "    \r\n",
    "\r\n",
    "\r\n",
    "    deltas_list_all_colors.append(get_deltas_list_origami(particles,pixel_size,max_radius))"
   ]
  },
  {
   "cell_type": "markdown",
   "metadata": {},
   "source": [
    "Now, we can compute the MSD"
   ]
  },
  {
   "cell_type": "code",
   "execution_count": 12,
   "metadata": {},
   "outputs": [
    {
     "name": "stdout",
     "output_type": "stream",
     "text": [
      "1.555230491195075\n",
      "1.606909803122594\n",
      "1.6388473146097307\n"
     ]
    },
    {
     "data": {
      "image/png": "[encoded data removed]",
      "text/plain": "<Figure size 432x288 with 1 Axes>"
     },
     "metadata": {
      "needs_background": "light"
     },
     "output_type": "display_data"
    }
   ],
   "source": [
    "import matplotlib.pyplot as plt\r\n",
    "from scipy import stats\r\n",
    "\r\n",
    "circulator_color_dict = {'blue':'orange','red':'green','green':'red'}\r\n",
    "\r\n",
    "for deltas_list in deltas_list_all_colors:\r\n",
    "    MSD = []\r\n",
    "\r\n",
    "    for delta in range(1, np.int64(np.max(deltas_list[:,0]))):\r\n",
    "\r\n",
    "        xy = deltas_list[np.where(deltas_list[:,0]==delta)[0],1:3]\r\n",
    "        r2 = np.sum(np.power(xy,2),axis=1)\r\n",
    "\r\n",
    "        MSD.append([delta,np.mean( r2)])\r\n",
    "\r\n",
    "\r\n",
    "    MSD = np.array(MSD)\r\n",
    "\r\n",
    "    res = stats.linregress(MSD[0:20,0]*0.01, MSD[0:20,1]*np.power(0.108,2))\r\n",
    "    print(res.slope/4)\r\n",
    "    plt.scatter(MSD[:,0]*0.01,MSD[:,1]*np.power(0.108,2),s=20,edgecolors= 'black',label='$D=$'+str('%.2f' % (res.slope/4))+' $\\mu$' +'$m^2/s$')\r\n",
    "    plt.plot(MSD[0:20,0]*0.01,res.slope*MSD[0:20,0]*0.01+res.intercept,linestyle='--',label='_none')\r\n",
    "\r\n",
    "\r\n",
    "    MSD[:,0] = MSD[:,0]*0.01\r\n",
    "    MSD[:,1] = MSD[:,1]*np.power(0.108,2)\r\n",
    "\r\n",
    "\r\n",
    "plt.show()"
   ]
  }
 ],
 "metadata": {
  "kernelspec": {
   "display_name": "Python 3.9.9 64-bit",
   "metadata": {
    "interpreter": {
     "hash": "8891487c894b874e57ee05fe049ec7a388b6131217606824f7f0c26bcaf0d680"
    }
   },
   "name": "python3"
  },
  "language_info": {
   "codemirror_mode": {
    "name": "ipython",
    "version": 3
   },
   "file_extension": ".py",
   "mimetype": "text/x-python",
   "name": "python",
   "nbconvert_exporter": "python",
   "pygments_lexer": "ipython3",
   "version": "3.9.9"
  },
  "orig_nbformat": 2
 },
 "nbformat": 4,
 "nbformat_minor": 2
}